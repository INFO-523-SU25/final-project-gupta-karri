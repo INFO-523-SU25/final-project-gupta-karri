{
  "cells": [
    {
      "cell_type": "markdown",
      "metadata": {},
      "source": [
        "---\n",
        "title: \"About\"\n",
        "format: html\n",
        "editor: visual\n",
        "jupyter: python3\n",
        "---\n",
        "\n",
        "This project was developed by **The Classifiers** For [INFO 523 - Data Mining and Discovery](https://datamineaz.org/) at the University of Arizona, taught by Dr. Greg Chism. The team is comprised of the following team members.\n",
        "\n",
        "-   Saumya Gupta: First-year Master of Science in Data Science student with a professional background in Software Development and interest in Machine Learning.\n",
        "\n",
        "-   Sathwika Karri: I am in my fourth semester of the Master of Science in Data Science program. "
      ],
      "id": "8a982cb0"
    }
  ],
  "metadata": {
    "kernelspec": {
      "name": "python3",
      "language": "python",
      "display_name": "Python 3 (ipykernel)",
      "path": "C:\\Users\\Sathvika\\AppData\\Roaming\\Python\\share\\jupyter\\kernels\\python3"
    }
  },
  "nbformat": 4,
  "nbformat_minor": 5
}