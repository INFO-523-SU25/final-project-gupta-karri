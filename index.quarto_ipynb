{
  "cells": [
    {
      "cell_type": "markdown",
      "metadata": {},
      "source": [
        "---\n",
        "title: \"Behavioral Outlier Segmentation using credit card dataset\"\n",
        "subtitle: \"INFO 523 - Final Project\"\n",
        "author: \n",
        "  - name: \"The Classifiers - Saumya Gupta, Sathwika Karri,...\"\n",
        "    affiliations:\n",
        "      - name: \"College of Information Science, University of Arizona\"\n",
        "description: \"Project description: The project *Behavioral Outlier Segmentation* focuses on analyzing credit card usage data from Kaggle to identify customer segments that exhibit unusual behavior patterns. By uncovering deviations such as irregular payments, abnormal spending, or infrequent card usage, the project aims to detect behavioral outliers and predict customers who are likely to stop using their cards or switch to competitors.\"\n",
        "format:\n",
        "   html:\n",
        "    code-tools: true\n",
        "    code-overflow: wrap\n",
        "    embed-resources: true\n",
        "editor: visual\n",
        "execute:\n",
        "  warning: false\n",
        "  echo: false\n",
        "jupyter: python3\n",
        "---\n",
        "\n",
        "## Abstract\n",
        "\n",
        "This project, Behavioral Outlier Segmentation, looks at credit card data from Kaggle to find customers who use their cards in unusual ways. These unusual behaviors might include strange spending patterns, missed payments, or using the card very rarely. The goal is to find these outliers and predict which customers might stop using their cards or switch to another company. This can help credit card companies keep their customers by understanding their behavior early.\n"
      ],
      "id": "ce6a5995"
    }
  ],
  "metadata": {
    "kernelspec": {
      "name": "python3",
      "language": "python",
      "display_name": "Python 3 (ipykernel)",
      "path": "C:\\Users\\Sathvika\\AppData\\Roaming\\Python\\share\\jupyter\\kernels\\python3"
    }
  },
  "nbformat": 4,
  "nbformat_minor": 5
}